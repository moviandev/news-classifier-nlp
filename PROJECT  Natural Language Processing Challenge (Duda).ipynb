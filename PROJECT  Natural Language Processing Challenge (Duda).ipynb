{
 "cells": [
  {
   "cell_type": "markdown",
   "id": "1bf353ed",
   "metadata": {},
   "source": [
    "PROJECT | Natural Language Processing Challenge"
   ]
  },
  {
   "cell_type": "markdown",
   "id": "6c02a4f4",
   "metadata": {},
   "source": [
    "1- Importing Libraries"
   ]
  },
  {
   "cell_type": "code",
   "execution_count": 1,
   "id": "48e21930",
   "metadata": {},
   "outputs": [],
   "source": [
    "# Importing basic libraries\n",
    "import pandas as pd         # For data manipulation (like Excel)\n",
    "import numpy as np          # For mathematical operations\n",
    "import matplotlib.pyplot as plt  # For creating graphs\n",
    "import seaborn as sns       # For nicer-looking graphs\n",
    "\n",
    "# Importing libraries for text processing\n",
    "import nltk                 # For natural language processing (text cleaning)\n",
    "from sklearn.model_selection import train_test_split  # To split data into train and test sets\n",
    "from sklearn.feature_extraction.text import TfidfVectorizer  # To convert text into numbers\n",
    "from sklearn.linear_model import LogisticRegression   # Machine learning model\n",
    "from sklearn.metrics import accuracy_score, classification_report  # To check model performance\n"
   ]
  },
  {
   "cell_type": "markdown",
   "id": "56c134f9",
   "metadata": {},
   "source": [
    "2- Load and check the data"
   ]
  },
  {
   "cell_type": "code",
   "execution_count": null,
   "id": "9769fb76",
   "metadata": {},
   "outputs": [
    {
     "name": "stdout",
     "output_type": "stream",
     "text": [
      "   label                                              title\n",
      "0      0  donald trump sends out embarrassing new year‚s...\n",
      "1      0  drunk bragging trump staffer started russian c...\n",
      "2      0  sheriff david clarke becomes an internet joke ...\n",
      "3      0  trump is so obsessed he even has obama‚s name ...\n",
      "4      0  pope francis just called out donald trump duri...\n",
      "--------------------\n",
      "(34152, 2)\n",
      "--------------------\n",
      "Index(['label', 'title'], dtype='object')\n",
      "--------------------\n",
      "label    0\n",
      "title    0\n",
      "dtype: int64\n"
     ]
    }
   ],
   "source": [
    "# Reads the CSV file using \"\\\" as separator\n",
    "df = pd.read_csv(\"./datasets/training_data_lowercase.csv\", sep='\\t', engine='python', names=['label', 'title'])\n",
    "\n",
    "# Show first few rows of the dataframe\n",
    "print(df.head())\n",
    "\n",
    "print('-'*20)\n",
    "\n",
    "# Check shape of the dataframe\n",
    "print(df.shape)\n",
    "\n",
    "print('-'*20)\n",
    "\n",
    "# Check column names\n",
    "print(df.columns)\n",
    "\n",
    "print('-'*20)\n",
    "\n",
    "# Check for missing values\n",
    "print(df.isnull().sum())\n"
   ]
  },
  {
   "cell_type": "markdown",
   "id": "c7112a39",
   "metadata": {},
   "source": [
    "3- Cleaning the text"
   ]
  },
  {
   "cell_type": "code",
   "execution_count": 3,
   "id": "85efdba4",
   "metadata": {},
   "outputs": [
    {
     "name": "stderr",
     "output_type": "stream",
     "text": [
      "[nltk_data] Downloading package stopwords to\n",
      "[nltk_data]     C:\\Users\\dudam\\AppData\\Roaming\\nltk_data...\n",
      "[nltk_data]   Package stopwords is already up-to-date!\n",
      "[nltk_data] Downloading package wordnet to\n",
      "[nltk_data]     C:\\Users\\dudam\\AppData\\Roaming\\nltk_data...\n",
      "[nltk_data]   Package wordnet is already up-to-date!\n"
     ]
    },
    {
     "name": "stdout",
     "output_type": "stream",
     "text": [
      "                                               title  \\\n",
      "0  donald trump sends out embarrassing new year‚s...   \n",
      "1  drunk bragging trump staffer started russian c...   \n",
      "2  sheriff david clarke becomes an internet joke ...   \n",
      "3  trump is so obsessed he even has obama‚s name ...   \n",
      "4  pope francis just called out donald trump duri...   \n",
      "\n",
      "                                         clean_title  \n",
      "0  donald trump sends embarrassing new year eve m...  \n",
      "1  drunk bragging trump staffer started russian c...  \n",
      "2  sheriff david clarke becomes internet joke thr...  \n",
      "3  trump obsessed even obamas name coded website ...  \n",
      "4  pope francis called donald trump christmas speech  \n"
     ]
    }
   ],
   "source": [
    "import nltk\n",
    "nltk.download('stopwords')\n",
    "nltk.download('wordnet')\n",
    "\n",
    "import re                    # Regular expressions to clean text\n",
    "from nltk.corpus import stopwords\n",
    "from nltk.stem import WordNetLemmatizer\n",
    "\n",
    "# Create a function to clean text\n",
    "def clean_text(text):\n",
    "    # 1. Convert to lowercase\n",
    "    text = text.lower()\n",
    "\n",
    "    # 2. Remove punctuation, numbers, and special characters\n",
    "    text = re.sub(r'[^a-zA-Z\\s]', '', text)\n",
    "\n",
    "    # 3. Tokenize (split the sentence into words)\n",
    "    words = text.split()\n",
    "\n",
    "    # 4. Remove stopwords (common words that don't add meaning)\n",
    "    stop_words = set(stopwords.words('english'))\n",
    "    words = [word for word in words if word not in stop_words]\n",
    "\n",
    "    # 5. Lemmatize words (reduce them to their root form)\n",
    "    lemmatizer = WordNetLemmatizer()\n",
    "    words = [lemmatizer.lemmatize(word) for word in words]\n",
    "\n",
    "    # 6. Join words back into one string\n",
    "    return ' '.join(words)\n",
    "\n",
    "# Apply the cleaning function to the title column\n",
    "df['clean_title'] = df['title'].apply(clean_text)\n",
    "\n",
    "# Show before and after examples\n",
    "print(df[['title', 'clean_title']].head())\n"
   ]
  },
  {
   "cell_type": "markdown",
   "id": "3b1da18f",
   "metadata": {},
   "source": [
    "4- Fit and transform the clean text into numerical vectors (TF-IDF)"
   ]
  },
  {
   "cell_type": "code",
   "execution_count": 4,
   "id": "7dd4c8e4",
   "metadata": {},
   "outputs": [
    {
     "name": "stdout",
     "output_type": "stream",
     "text": [
      "            word        idf\n",
      "3051         emp  10.745459\n",
      "2762       donut  10.745459\n",
      "6665         poo  10.745459\n",
      "1636   cominghes  10.745459\n",
      "8000     shapiro  10.745459\n",
      "2888     dweller  10.339993\n",
      "28        abrams  10.339993\n",
      "1597  collective  10.339993\n",
      "2939     editing  10.339993\n",
      "9959       yield  10.339993\n",
      "-------------------\n",
      "            word       idf\n",
      "9316       trump  2.048447\n",
      "9621       video  2.834318\n",
      "7761         say  3.460638\n",
      "6116       obama  3.905447\n",
      "4346       house  3.958177\n",
      "7439  republican  3.976391\n",
      "4235     hillary  4.151045\n",
      "1520     clinton  4.163433\n",
      "9802       white  4.233713\n",
      "6022         new  4.298153\n"
     ]
    }
   ],
   "source": [
    "from sklearn.feature_extraction.text import TfidfVectorizer\n",
    "import pandas as pd\n",
    "import numpy as np\n",
    "\n",
    "# Create TF-IDF vectorizer (you can limit the number of features if needed)\n",
    "vectorizer = TfidfVectorizer(max_features=10000)  # None = no limit on features\n",
    "\n",
    "# Fit the vectorizer to your cleaned titles\n",
    "X = vectorizer.fit_transform(df['clean_title'])\n",
    "\n",
    "# Get all the words (features) and their IDF scores\n",
    "idf_values = vectorizer.idf_\n",
    "words = vectorizer.get_feature_names_out()\n",
    "\n",
    "# Create a DataFrame to organize words and their IDF scores\n",
    "tfidf_df = pd.DataFrame({\n",
    "    'word': words,\n",
    "    'idf': idf_values\n",
    "})\n",
    "\n",
    "# Sort to find most and least important words\n",
    "most_important = tfidf_df.sort_values(by='idf', ascending=False).head(10)\n",
    "least_important = tfidf_df.sort_values(by='idf', ascending=True).head(10)\n",
    "\n",
    "print(most_important)\n",
    "print('-------------------')\n",
    "print(least_important)\n"
   ]
  },
  {
   "cell_type": "markdown",
   "id": "c7be44ac",
   "metadata": {},
   "source": [
    "5- Split the data (train - test)"
   ]
  },
  {
   "cell_type": "code",
   "execution_count": 6,
   "id": "8c0944db",
   "metadata": {},
   "outputs": [
    {
     "name": "stdout",
     "output_type": "stream",
     "text": [
      "Training data shape: (27321, 10000)\n",
      "Testing data shape: (6831, 10000)\n"
     ]
    }
   ],
   "source": [
    "from sklearn.model_selection import train_test_split\n",
    "\n",
    "y = df['label']\n",
    "\n",
    "# Split the data\n",
    "X_train, X_test, y_train, y_test = train_test_split(\n",
    "    X,            # the TF-IDF matrix (numerical features)\n",
    "    y,            # the labels (0 = fake, 1 = real)\n",
    "    test_size=0.2,   # 20% of the data will be used for testing\n",
    "    random_state=42, # ensures reproducibility (same split every time)\n",
    "    stratify=y       # keeps the proportion of 0s and 1s balanced\n",
    ")\n",
    "\n",
    "print(\"Training data shape:\", X_train.shape)\n",
    "print(\"Testing data shape:\", X_test.shape)\n"
   ]
  },
  {
   "cell_type": "markdown",
   "id": "14dafd21",
   "metadata": {},
   "source": [
    "6-Traing the model "
   ]
  },
  {
   "cell_type": "markdown",
   "id": "b1429cc3",
   "metadata": {},
   "source": [
    "    Logistic Regression"
   ]
  },
  {
   "cell_type": "code",
   "execution_count": 7,
   "id": "9be0a504",
   "metadata": {},
   "outputs": [],
   "source": [
    "from sklearn.linear_model import LogisticRegression\n",
    "\n",
    "# Create the model\n",
    "model = LogisticRegression(max_iter=1000)  # max_iter avoids convergence warnings\n",
    "\n",
    "# Train the model using the training data\n",
    "model.fit(X_train, y_train)\n",
    "\n",
    "# Make predictions on the test data\n",
    "y_pred = model.predict(X_test)\n"
   ]
  },
  {
   "cell_type": "code",
   "execution_count": 8,
   "id": "e35cec71",
   "metadata": {},
   "outputs": [
    {
     "name": "stdout",
     "output_type": "stream",
     "text": [
      "✅ Accuracy: 0.93\n",
      "\n",
      "📋 Classification Report:\n",
      "              precision    recall  f1-score   support\n",
      "\n",
      "           0       0.94      0.92      0.93      3515\n",
      "           1       0.92      0.94      0.93      3316\n",
      "\n",
      "    accuracy                           0.93      6831\n",
      "   macro avg       0.93      0.93      0.93      6831\n",
      "weighted avg       0.93      0.93      0.93      6831\n",
      "\n"
     ]
    }
   ],
   "source": [
    "from sklearn.metrics import accuracy_score, classification_report\n",
    "\n",
    "# Accuracy = % de acertos\n",
    "accuracy = accuracy_score(y_test, y_pred)\n",
    "print(f\"✅ Accuracy: {accuracy:.2f}\")\n",
    "\n",
    "# Detailed performance by class\n",
    "print(\"\\n📋 Classification Report:\")\n",
    "print(classification_report(y_test, y_pred))\n"
   ]
  },
  {
   "cell_type": "code",
   "execution_count": 9,
   "id": "9b5d1f9f",
   "metadata": {},
   "outputs": [
    {
     "name": "stdout",
     "output_type": "stream",
     "text": [
      "🏋️‍♂️ Treino: 0.95\n",
      "🧪 Teste: 0.93\n"
     ]
    }
   ],
   "source": [
    "# Accuracy on training data\n",
    "train_accuracy = model.score(X_train, y_train)\n",
    "\n",
    "# Accuracy on testing data\n",
    "test_accuracy = model.score(X_test, y_test)\n",
    "\n",
    "print(f\"🏋️‍♂️ Treino: {train_accuracy:.2f}\")\n",
    "print(f\"🧪 Teste: {test_accuracy:.2f}\")\n"
   ]
  },
  {
   "cell_type": "code",
   "execution_count": 10,
   "id": "12837b89",
   "metadata": {},
   "outputs": [
    {
     "data": {
      "image/png": "[encoded data removed]",
      "text/plain": [
       "<Figure size 640x480 with 1 Axes>"
      ]
     },
     "metadata": {},
     "output_type": "display_data"
    }
   ],
   "source": [
    "import matplotlib.pyplot as plt\n",
    "\n",
    "labels = ['Training', 'Testing']\n",
    "scores = [train_accuracy, test_accuracy]\n",
    "\n",
    "plt.bar(labels, scores)\n",
    "plt.ylim(0.7, 1)\n",
    "plt.title('Model Performance')\n",
    "plt.ylabel('Accuracy')\n",
    "plt.show()\n"
   ]
  },
  {
   "cell_type": "markdown",
   "id": "07c6abab",
   "metadata": {},
   "source": [
    "Naive Bayes Model"
   ]
  },
  {
   "cell_type": "code",
   "execution_count": 11,
   "id": "372e51da",
   "metadata": {},
   "outputs": [
    {
     "name": "stdout",
     "output_type": "stream",
     "text": [
      "✅ Naive Bayes Accuracy: 0.93\n",
      "\n",
      "📋 Classification Report:\n",
      "              precision    recall  f1-score   support\n",
      "\n",
      "           0       0.92      0.94      0.93      3515\n",
      "           1       0.93      0.92      0.92      3316\n",
      "\n",
      "    accuracy                           0.93      6831\n",
      "   macro avg       0.93      0.93      0.93      6831\n",
      "weighted avg       0.93      0.93      0.93      6831\n",
      "\n"
     ]
    }
   ],
   "source": [
    "from sklearn.naive_bayes import MultinomialNB\n",
    "from sklearn.metrics import accuracy_score, classification_report\n",
    "\n",
    "# Create the model\n",
    "nb_model = MultinomialNB()\n",
    "\n",
    "# Train the model\n",
    "nb_model.fit(X_train, y_train)\n",
    "\n",
    "# Make predictions\n",
    "y_pred_nb = nb_model.predict(X_test)\n",
    "\n",
    "# Evaluate accuracy\n",
    "accuracy_nb = accuracy_score(y_test, y_pred_nb)\n",
    "print(f\"✅ Naive Bayes Accuracy: {accuracy_nb:.2f}\")\n",
    "\n",
    "# Detailed performance report\n",
    "print(\"\\n📋 Classification Report:\")\n",
    "print(classification_report(y_test, y_pred_nb))\n"
   ]
  },
  {
   "cell_type": "markdown",
   "id": "b7ba748e",
   "metadata": {},
   "source": [
    "Random Forest Classifier "
   ]
  },
  {
   "cell_type": "code",
   "execution_count": 23,
   "id": "8fe94cee",
   "metadata": {},
   "outputs": [
    {
     "name": "stdout",
     "output_type": "stream",
     "text": [
      "✅ Random Forest Accuracy: 0.90\n",
      "\n",
      "📋 Classification Report:\n",
      "              precision    recall  f1-score   support\n",
      "\n",
      "           0       0.91      0.89      0.90      3515\n",
      "           1       0.89      0.91      0.90      3316\n",
      "\n",
      "    accuracy                           0.90      6831\n",
      "   macro avg       0.90      0.90      0.90      6831\n",
      "weighted avg       0.90      0.90      0.90      6831\n",
      "\n"
     ]
    }
   ],
   "source": [
    "from sklearn.ensemble import RandomForestClassifier\n",
    "from sklearn.metrics import accuracy_score, classification_report\n",
    "\n",
    "# Create the model\n",
    "rf_model = RandomForestClassifier(\n",
    "    n_estimators=500,   # number of trees\n",
    "    random_state=42,    # ensures reproducibility\n",
    "    max_depth=50,         # limita a profundidade das árvores\n",
    "    min_samples_split=20,  # exige mais dados pra criar divisões\n",
    ")\n",
    "\n",
    "# Train the model\n",
    "rf_model.fit(X_train, y_train)\n",
    "\n",
    "# Make predictions\n",
    "y_pred_rf = rf_model.predict(X_test)\n",
    "\n",
    "# Evaluate the model\n",
    "accuracy_rf = accuracy_score(y_test, y_pred_rf)\n",
    "print(f\"✅ Random Forest Accuracy: {accuracy_rf:.2f}\")\n",
    "\n",
    "print(\"\\n📋 Classification Report:\")\n",
    "print(classification_report(y_test, y_pred_rf))\n"
   ]
  },
  {
   "cell_type": "code",
   "execution_count": 24,
   "id": "7d94eb33",
   "metadata": {},
   "outputs": [
    {
     "name": "stdout",
     "output_type": "stream",
     "text": [
      "🏋️‍♂️ Treino: 0.94\n",
      "🧪 Teste: 0.90\n"
     ]
    }
   ],
   "source": [
    "train_acc = rf_model.score(X_train, y_train)\n",
    "test_acc = rf_model.score(X_test, y_test)\n",
    "\n",
    "print(f\"🏋️‍♂️ Treino: {train_acc:.2f}\")\n",
    "print(f\"🧪 Teste: {test_acc:.2f}\")\n"
   ]
  },
  {
   "cell_type": "markdown",
   "id": "baa33481",
   "metadata": {},
   "source": [
    "7 "
   ]
  }
 ],
 "metadata": {
  "kernelspec": {
   "display_name": "base",
   "language": "python",
   "name": "python3"
  },
  "language_info": {
   "codemirror_mode": {
    "name": "ipython",
    "version": 3
   },
   "file_extension": ".py",
   "mimetype": "text/x-python",
   "name": "python",
   "nbconvert_exporter": "python",
   "pygments_lexer": "ipython3",
   "version": "3.13.5"
  }
 },
 "nbformat": 4,
 "nbformat_minor": 5
}
